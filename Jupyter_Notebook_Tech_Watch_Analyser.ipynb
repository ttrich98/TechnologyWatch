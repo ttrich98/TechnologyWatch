######################################################################################################
# PLEASE PRESS ON THE "RUN" BUTTON (ABOVE) AND FOLLOW THE INSTRUCTIONS                               #
# NB: TO SEE THE OUTPUT OF THIS CODE CLEARER, PRESS ON THE GREY BLOCK AT THE LEFT OF THE OUTPUT BOX  #
######################################################################################################


import ipywidgets
import pandas as pd
from IPython.display import display
import os
from IPython.core.display import HTML
import re
import matplotlib.pyplot as plt
import numpy as np



#Text widget for entering Excel file path

text1 = ipywidgets.Text(value='',
                      placeholder='type path here',
                      description='Path:',
                      disabled=False)

instructions1 = ipywidgets.widgets.HTML("1. Enter the path of the survey's Excel file here:")
display(instructions1)

display(text1)



def Get_Data (path): #Get data from the Excel file
   df=pd.read_excel(path)
   df_print = df.drop('Timestamp', axis=1)
   return df_print



def ChartAnalysis(): #Analyse the information from the Excel file
    df_print=Get_Data(text1.value)

    #DEVELOPMENT LEVEL

    #Number of technologies on the different development level
    nb_concept=0
    nb_prototype=0
    nb_precommercial=0
    nb_commercial=0
    for index, row in df_print.iterrows():
       if row['What is the development level of the technology?'] == "A. Concept Stage":	
           nb_concept+=1
       if row ['What is the development level of the technology?'] == "B. Prototype Stage":
           nb_prototype+=1
       if row ['What is the development level of the technology?'] == "C. Pre-commercial Stage":	
           nb_precommercial+=1
       if row ['What is the development level of the technology?']== "D. Commercial Stage":
           nb_commercial+=1



    #CATEGORY/SUBCATEGORY
    #Monitoring
    nb_monitoring=0
    nb_health=0
    nb_env=0

    df_count=df_print[df_print['In which category/subcategory does your technology fit best?'].str.contains("Health Monitoring", flags=re.IGNORECASE)]
    nb_health=(len(df_count.index))

    df_count=df_print[df_print['In which category/subcategory does your technology fit best?'].str.contains("Environmental Monitoring", flags=re.IGNORECASE)]
    nb_env=(len(df_count.index))

    nb_monitoring= nb_health+nb_env


    #Point-of-Care Clinical Diagnostics
    nb_POC=0
    nb_imaging=0  
    nb_sample=0

    df_count=df_print[df_print['In which category/subcategory does your technology fit best?'].str.contains("Point-of-Care Medical Imaging", flags=re.IGNORECASE)]
    nb_imaging=(len(df_count.index))

    df_count=df_print[df_print['In which category/subcategory does your technology fit best?'].str.contains("Point-of-Care Biological Sample Analysis", flags=re.IGNORECASE)]
    nb_sample=(len(df_count.index))

    nb_POC=nb_imaging+nb_sample

    #Data Infrastructure
    nb_dataInfra=0
    nb_medicalInfra=0
    nb_ECLSS=0
    nb_interfaces=0

    df_count=df_print[df_print['In which category/subcategory does your technology fit best?'].str.contains("Medical Data Infrastructure", flags=re.IGNORECASE)]
    nb_medicalInfra=(len(df_count.index))

    df_count=df_print[df_print['In which category/subcategory does your technology fit best?'].str.contains("ECLSS", flags=re.IGNORECASE)]
    nb_ECLSS=(len(df_count.index))

    df_count=df_print[df_print['In which category/subcategory does your technology fit best?'].str.contains("Habitat Subsystem Interfaces", flags=re.IGNORECASE)]
    nb_interfaces=(len(df_count.index))

    nb_dataInfra=nb_medicalInfra+nb_ECLSS+nb_interfaces


    #Decision Support System (DSS)
    nb_DSS=0
    nb_UI=0
    nb_protocols=0
    nb_MLtools=0
    nb_virtualAssistant=0

    df_count=df_print[df_print['In which category/subcategory does your technology fit best?'].str.contains("Graphical User Interface", flags=re.IGNORECASE)]
    nb_UI=(len(df_count.index))

    df_count=df_print[df_print['In which category/subcategory does your technology fit best?'].str.contains("Treatment Protocols", flags=re.IGNORECASE)]
    nb_protocols=(len(df_count.index))

    df_count=df_print[df_print['In which category/subcategory does your technology fit best?'].str.contains("Machine Learning Decision Support Tools", flags=re.IGNORECASE)]
    nb_MLtools=(len(df_count.index))  

    df_count=df_print[df_print['In which category/subcategory does your technology fit best?'].str.contains("Virtual Assistant", flags=re.IGNORECASE)]
    nb_virtualAssistant=(len(df_count.index))

    nb_DSS=nb_UI+nb_protocols+nb_MLtools+nb_virtualAssistant

    #Training and Simulation
    nb_training_simulation=0
    nb_justInTime=0
    nb_continuousEd=0
    nb_prepSim=0

    df_count=df_print[df_print['In which category/subcategory does your technology fit best?'].str.contains("Just-in-Time Training", flags=re.IGNORECASE)]
    nb_justInTime=(len(df_count.index))

    df_count=df_print[df_print['In which category/subcategory does your technology fit best?'].str.contains("Continuous Medical Education", flags=re.IGNORECASE)]
    nb_continuousEd=(len(df_count.index))

    df_count=df_print[df_print['In which category/subcategory does your technology fit best?'].str.contains("Preparatory Simulation", flags=re.IGNORECASE)]
    nb_prepSim=(len(df_count.index))

    nb_training_simulation=nb_justInTime+nb_continuousEd+nb_prepSim

    #Health Management
    nb_healthManagment=0
    nb_physical=0
    nb_psychological=0
    nb_food_drug=0
    nb_countermeasures=0

    df_count=df_print[df_print['In which category/subcategory does your technology fit best?'].str.contains("Physical Treatment and Rehabilitation", flags=re.IGNORECASE)]
    nb_physical=(len(df_count.index))

    df_count=df_print[df_print['In which category/subcategory does your technology fit best?'].str.contains("Psychological Treatment and Moral Support", flags=re.IGNORECASE)]
    nb_psychological=(len(df_count.index))

    df_count=df_print[df_print['In which category/subcategory does your technology fit best?'].str.contains("Food and Drug Production", flags=re.IGNORECASE)]
    nb_food_drug=(len(df_count.index))

    df_count=df_print[df_print['In which category/subcategory does your technology fit best?'].str.contains("Countermeasures System", flags=re.IGNORECASE)]
    nb_countermeasures=(len(df_count.index))

    nb_healthManagment=nb_physical+nb_psychological+nb_food_drug+nb_countermeasures


    fig, (ax1, ax2) = plt.subplots(1, 2)
    fig.set_figheight(5)
    fig.set_figwidth(10)

    #Chart of development levels   
    arr_devLevel=np.array([nb_concept, nb_prototype, nb_precommercial, nb_commercial])
    label_devLevel=['Concept('+str(nb_concept)+')', 'Prototype('+str(nb_prototype)+')', 'Pre-commercial('+str(nb_precommercial)+')', 'Commercial('+str(nb_commercial)+')']
    explode1=[0.3, 0.2, 0.3,0.2]
    ax1.pie(arr_devLevel, labels = label_devLevel, explode = explode1, shadow = True, radius=8)
    ax1.set_title("Chart 1: Development Levels \n \n \n \n \n \n \n \n \n \n \n \n", fontweight='bold')


   #Chart of categories  
    arr_cat=np.array([nb_monitoring, nb_POC, nb_dataInfra, nb_DSS, nb_training_simulation, nb_healthManagment])
    label_cat=['Monitoring('+str(nb_monitoring)+')', 'Point-of-Care Clinical Diagnostics('+str(nb_POC)+')', 'Data Infrastructure('+str(nb_dataInfra)+')', 'Decision Support System ('+str(nb_DSS)+')', 'Training and Simulation ('+str(nb_training_simulation)+')', 'Health Management('+str(nb_healthManagment)+')']
    explode2=[0.3, 0.2, 0.3, 0.2, 0.3, 0.2]
    ax2.pie(arr_cat, labels = label_cat, explode = explode2, shadow = True, radius=8)
    ax2.set_title("Chart 2: Categories \n \n \n \n \n \n \n \n \n \n \n \n", fontweight='bold')
    plt.subplots_adjust(wspace=13, hspace=5)
    plt.show()

    line= ipywidgets.widgets.HTML("-------------------------------------------------------------------------------------------------------------------------------------------------------------------------------------------------- ")
    display(line)


    #Chart of subcategories
    #First 3
    fig, (ax1, ax2, ax3) = plt.subplots(1, 3)
    fig.set_figheight(2)
    fig.set_figwidth(25)


    #Monitoring subcategories
    arr_monitoring=np.array([nb_health, nb_env])
    label_monitoring=['Health Monitoring('+str(nb_health)+')', 'Environmental Monitoring('+str(nb_env)+')']
    ax1.barh(label_monitoring, arr_monitoring)
    ax1.set_xticks(np.arange(0, arr_monitoring.max()+1, 1))
    ax1.set_title("Chart 3: Monitoring - Subcategories \n \n", fontweight='bold')


    #Point-of-Care Clinical Diagnostics Subcategories
    arr_POC=np.array([nb_imaging, nb_sample])
    label_POC=['Point-of-Care Medical Imaging('+str(nb_imaging)+')', 'Point-of-Care Biological Sample Analysis('+str(nb_sample)+')']
    ax2.barh(label_POC, arr_POC, color='darkorange')
    ax2.set_xticks(np.arange(0, arr_POC.max()+1, 1))
    ax2.set_title("Chart 4: Point-of-Care Clinical Diagnostics - Subcategories \n \n", fontweight='bold')

    #Data Infrastructure subcategories
    arr_dataInfra=np.array([nb_medicalInfra, nb_ECLSS, nb_interfaces ])
    label_dataInfra=['Medical Data Infrastructure('+str(nb_medicalInfra)+')', 'ECLSS('+str(nb_ECLSS)+')', 'Habitat Subsytems Interfaces('+str(nb_interfaces)+')']
    ax3.barh(label_dataInfra, arr_dataInfra, color='green')
    ax3.set_xticks(np.arange(0, arr_dataInfra.max()+1, 1))
    ax3.set_title("Chart 5: Data Infrastructure - Subcategories \n \n", fontweight='bold')
    plt.subplots_adjust(wspace=1, hspace=2)
    plt.show()

    #Last 3
    fig, (ax1, ax2, ax3) = plt.subplots(1, 3)
    fig.set_figheight(2)
    fig.set_figwidth(25)

    #Decision Support System subcategories
    arr_DSS=np.array([nb_UI, nb_protocols, nb_MLtools, nb_virtualAssistant])
    label_DSS=['Graphical User Interface('+str(nb_UI)+')', 'Treatment Protocols('+str(nb_protocols)+')', 'ML Decision Support Tools('+str(nb_MLtools)+')', 'Virtual Assistant('+str(nb_virtualAssistant)+')']
    ax1.barh(label_DSS, arr_DSS, color="darkred")
    ax1.set_xticks(np.arange(0, arr_DSS.max()+1, 1))
    ax1.set_title("Chart 6: Decision Support System - Subcategories \n \n ", fontweight='bold')

    #Training and Simulation subcategories
    arr_training_simulation=np.array([nb_justInTime, nb_continuousEd, nb_prepSim])
    label_training_simulation=['Just-In-Time Training('+str(nb_justInTime)+')', 'Continuous Medical Education('+str(nb_continuousEd)+')', 'Preparatory Simulation('+str(nb_prepSim)+')']
    ax2.barh(label_training_simulation, arr_training_simulation, color="mediumpurple")
    ax2.set_xticks(np.arange(0, arr_training_simulation.max()+1, 1))
    ax2.set_title("Chart 7: Training & Simulation - Subcategories \n \n ", fontweight='bold')

    #Health Support subcategories
    arr_healthManagement=np.array([nb_physical, nb_psychological, nb_food_drug, nb_countermeasures])
    label_healthManagement=['Physical Treatment and Rehabilitation('+str(nb_physical)+')', 'Psychological Treatment and Moral Support ('+str(nb_psychological)+')', 'Food & Drug Production('+str(nb_food_drug)+')', 'Countermeasures System('+str(nb_countermeasures)+')']
    ax3.barh(label_healthManagement, arr_healthManagement, color="saddlebrown")
    ax3.set_xticks(np.arange(0, arr_healthManagement.max()+1, 1))
    ax3.set_title("Chart 8: Health Management - Subcategories \n \n ", fontweight='bold')
    plt.subplots_adjust(wspace=1, hspace=2)
    plt.show()

def Sort (Sort='Company/organization/university'): #Sort the uploaded information
   df_print=Get_Data(text1.value)
   if Sort=="Company/organization/university":
       df_print=df_print.sort_values(by=['Name of your company/organization/university'])
       display(HTML(df_print.to_html(index=False,col_space='400px')))
   if Sort == 'Technology category':
       df_print=df_print.sort_values(by=['In which category/subcategory does your technology fit best?'])
       display(HTML(df_print.to_html(index=False,col_space='400px')))
   if Sort == 'Development level':
       df_print=df_print.sort_values(by=['What is the development level of the technology?'])
       display(HTML(df_print.to_html(index=False,col_space='400px')))
   if Sort == 'Mass':
       df_print=df_print.sort_values(by=['What is the approximative mass of the technology (in kilograms)? NUMERIC VALUE ONLY'])
       display(HTML(df_print.to_html(index=False,col_space='400px')))
   if Sort == 'Power requirement':
       df_print=df_print.sort_values(by=['What is the approximative power requirement of the technology (in watts)? NUMERIC VALUE ONLY'])
       display(HTML(df_print.to_html(index=False,col_space='400px')))
   if Sort == 'Volume':
       df_print=df_print.sort_values(by=['What is the approximative volume of the technology (in cubic meters)? NUMERIC VALUE ONLY'])
       display(HTML(df_print.to_html(index=False,col_space='400px')))


def submit_analysis(greeting):# Excel fil path validation
   if os.path.exists(text1.value):
       filename, file_extension = os.path.splitext(text1.value)
       if ".xls" in file_extension:
           print("Valid Excel file - This file will now be analyzed")
           line= ipywidgets.widgets.HTML("--------------------------------------------------------------------------------------------------------------------------------------------------------------------------------------------------")
           display(line)
           ChartAnalysis()
           instructions2= ipywidgets.widgets.HTML("2. Sort the information in the table below using the dropdown options.")
           display(line)
           display(instructions2)
           ipywidgets.interact(Sort, Sort=['Company/organization/university', 'Technology category', 'Development level', 'Mass', 'Power requirement', 'Volume']);
       else:
           print("Not an Excel file - Please try again          ", end='\r')
   else:
       print("Invalide directory - Please try again            ", end='\r')


text1.on_submit(submit_analysis)
